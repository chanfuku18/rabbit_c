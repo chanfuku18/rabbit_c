{
 "cells": [
  {
   "cell_type": "markdown",
   "metadata": {
    "colab_type": "text",
    "id": "8cNl2QA_Rnv5"
   },
   "source": [
    "# 準備"
   ]
  },
  {
   "cell_type": "markdown",
   "metadata": {
    "colab_type": "text",
    "id": "3Ub7RYdeY6pK"
   },
   "source": [
    "## sys.pathの設定"
   ]
  },
  {
   "cell_type": "markdown",
   "metadata": {
    "colab_type": "text",
    "id": "oql7L19rEsWi"
   },
   "source": [
    "以下では，Googleドライブのマイドライブ直下にDNN_codeフォルダを置くことを仮定しています．必要に応じて，パスを変更してください．"
   ]
  },
  {
   "cell_type": "code",
   "execution_count": 7,
   "metadata": {
    "colab": {},
    "colab_type": "code",
    "id": "7Ic2JzkvFX59"
   },
   "outputs": [],
   "source": [
    "import sys\n",
    "sys.path.append('./')\n",
    "sys.path.append('../common')"
   ]
  },
  {
   "cell_type": "markdown",
   "metadata": {
    "colab_type": "text",
    "id": "k5L0AWliZYng"
   },
   "source": [
    "# importと関数定義"
   ]
  },
  {
   "cell_type": "code",
   "execution_count": 8,
   "metadata": {
    "colab": {},
    "colab_type": "code",
    "id": "83JsTOf6hQWi"
   },
   "outputs": [],
   "source": [
    "import numpy as np\n",
    "#from common import functions\n",
    "import functions\n",
    "import matplotlib.pyplot as plt\n",
    "\n",
    "def print_vec(text, vec):\n",
    "    print(\"*** \" + text + \" ***\")\n",
    "    print(vec)\n",
    "    #print(\"shape: \" + str(x.shape))\n",
    "    print(\"\")"
   ]
  },
  {
   "cell_type": "markdown",
   "metadata": {
    "colab_type": "text",
    "id": "isK70HrMhid9"
   },
   "source": [
    "# 確率勾配降下法"
   ]
  },
  {
   "cell_type": "code",
   "execution_count": 19,
   "metadata": {
    "colab": {},
    "colab_type": "code",
    "id": "MvHIzue3hQWm"
   },
   "outputs": [
    {
     "name": "stdout",
     "output_type": "stream",
     "text": [
      "##### 結果表示 #####\n"
     ]
    },
    {
     "data": {
      "image/png": "[encoded data removed]",
      "text/plain": [
       "<Figure size 432x288 with 1 Axes>"
      ]
     },
     "metadata": {
      "needs_background": "light"
     },
     "output_type": "display_data"
    }
   ],
   "source": [
    "# サンプルとする関数\n",
    "#yの値を予想するAI\n",
    "\n",
    "def f(x):\n",
    "    y = 3 * x[0] + 2 * x[1]\n",
    "    return y\n",
    "\n",
    "# 初期設定\n",
    "def init_network():\n",
    "    # print(\"##### ネットワークの初期化 #####\")\n",
    "    network = {}\n",
    "    nodesNum = 10\n",
    "    network['W1'] = np.random.randn(2, nodesNum)\n",
    "    network['W2'] = np.random.randn(nodesNum)\n",
    "    network['b1'] = np.random.randn(nodesNum)\n",
    "    network['b2'] = np.random.randn()\n",
    "\n",
    "    # print_vec(\"重み1\", network['W1'])\n",
    "    # print_vec(\"重み2\", network['W2'])\n",
    "    # print_vec(\"バイアス1\", network['b1'])\n",
    "    # print_vec(\"バイアス2\", network['b2'])\n",
    "\n",
    "    return network\n",
    "\n",
    "# 順伝播\n",
    "def forward(network, x):\n",
    "    # print(\"##### 順伝播開始 #####\")\n",
    "    \n",
    "    W1, W2 = network['W1'], network['W2']\n",
    "    b1, b2 = network['b1'], network['b2']\n",
    "    u1 = np.dot(x, W1) + b1\n",
    "    #z1 = functions.relu(u1)\n",
    "    \n",
    "    ## 試してみよう\n",
    "    z1 = functions.sigmoid(u1)\n",
    "    \n",
    "    u2 = np.dot(z1, W2) + b2\n",
    "    y = u2\n",
    "\n",
    "    # print_vec(\"総入力1\", u1)\n",
    "    # print_vec(\"中間層出力1\", z1)\n",
    "    # print_vec(\"総入力2\", u2)\n",
    "    # print_vec(\"出力1\", y)\n",
    "    # print(\"出力合計: \" + str(np.sum(y)))    \n",
    "    \n",
    "    return z1, y\n",
    "\n",
    "# 誤差逆伝播\n",
    "def backward(x, d, z1, y):\n",
    "    # print(\"\\n##### 誤差逆伝播開始 #####\")    \n",
    "\n",
    "    grad = {}\n",
    "    \n",
    "    W1, W2 = network['W1'], network['W2']\n",
    "    b1, b2 = network['b1'], network['b2']\n",
    "\n",
    "    # 出力層でのデルタ\n",
    "    delta2 = functions.d_mean_squared_error(d, y)\n",
    "    # b2の勾配\n",
    "    grad['b2'] = np.sum(delta2, axis=0)\n",
    "    # W2の勾配\n",
    "    grad['W2'] = np.dot(z1.T, delta2)\n",
    "    # 中間層でのデルタ\n",
    "    delta1 = np.dot(delta2, W2.T) * functions.d_relu(z1)\n",
    "\n",
    "    ## 試してみよう\n",
    "    #delta1 = np.dot(delta2, W2.T) * functions.d_sigmoid(z1)\n",
    "\n",
    "    delta1 = delta1[np.newaxis, :]\n",
    "    # b1の勾配\n",
    "    grad['b1'] = np.sum(delta1, axis=0)\n",
    "    x = x[np.newaxis, :]\n",
    "    # W1の勾配\n",
    "    grad['W1'] = np.dot(x.T, delta1)\n",
    "    \n",
    "    # print_vec(\"偏微分_重み1\", grad[\"W1\"])\n",
    "    # print_vec(\"偏微分_重み2\", grad[\"W2\"])\n",
    "    # print_vec(\"偏微分_バイアス1\", grad[\"b1\"])\n",
    "    # print_vec(\"偏微分_バイアス2\", grad[\"b2\"])\n",
    "\n",
    "    return grad\n",
    "\n",
    "# サンプルデータを作成\n",
    "data_sets_size = 10\n",
    "data_sets = [0 for i in range(data_sets_size)]\n",
    "\n",
    "for i in range(data_sets_size):\n",
    "    data_sets[i] = {}\n",
    "    # ランダムな値を設定\n",
    "    data_sets[i]['x'] = np.random.rand(2)\n",
    "    \n",
    "    ## 試してみよう_入力値の設定\n",
    "    data_sets[i]['x'] = np.random.rand(2) * 10 -5 # -5〜5のランダム数値\n",
    "    \n",
    "    # 目標出力を設定\n",
    "    data_sets[i]['d'] = f(data_sets[i]['x'])\n",
    "    \n",
    "losses = []\n",
    "# 学習率\n",
    "learning_rate = 0.0001\n",
    "\n",
    "# 抽出数\n",
    "epoch = 10000\n",
    "\n",
    "# パラメータの初期化\n",
    "network = init_network()\n",
    "# データのランダム抽出\n",
    "random_datasets = np.random.choice(data_sets, epoch)\n",
    "\n",
    "# 勾配降下の繰り返し\n",
    "for dataset in random_datasets:\n",
    "    x, d = dataset['x'], dataset['d']\n",
    "    z1, y = forward(network, x)\n",
    "    grad = backward(x, d, z1, y)\n",
    "    # パラメータに勾配適用\n",
    "    for key in ('W1', 'W2', 'b1', 'b2'):\n",
    "        network[key]  -= learning_rate * grad[key]\n",
    "\n",
    "    # 誤差\n",
    "    loss = functions.mean_squared_error(d, y)\n",
    "    losses.append(loss)\n",
    "\n",
    "print(\"##### 結果表示 #####\")    \n",
    "lists = range(epoch)\n",
    "\n",
    "\n",
    "plt.plot(lists, losses, '.')\n",
    "# グラフの表示\n",
    "plt.show()"
   ]
  },
  {
   "cell_type": "code",
   "execution_count": null,
   "metadata": {
    "colab": {},
    "colab_type": "code",
    "id": "pJ-rpBgfhQWp"
   },
   "outputs": [],
   "source": []
  }
 ],
 "metadata": {
  "anaconda-cloud": {},
  "colab": {
   "collapsed_sections": [],
   "name": "1_3_stochastic_gradient_descent.ipynb",
   "provenance": [],
   "toc_visible": true,
   "version": "0.3.2"
  },
  "kernelspec": {
   "display_name": "Python 3",
   "language": "python",
   "name": "python3"
  },
  "language_info": {
   "codemirror_mode": {
    "name": "ipython",
    "version": 3
   },
   "file_extension": ".py",
   "mimetype": "text/x-python",
   "name": "python",
   "nbconvert_exporter": "python",
   "pygments_lexer": "ipython3",
   "version": "3.6.9"
  }
 },
 "nbformat": 4,
 "nbformat_minor": 1
}
