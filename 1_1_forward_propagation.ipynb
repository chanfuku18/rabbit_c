{
 "cells": [
  {
   "cell_type": "markdown",
   "metadata": {
    "colab_type": "text",
    "id": "8cNl2QA_Rnv5"
   },
   "source": [
    "# 準備"
   ]
  },
  {
   "cell_type": "markdown",
   "metadata": {
    "colab_type": "text",
    "id": "3Ub7RYdeY6pK"
   },
   "source": [
    "## sys.pathの設定"
   ]
  },
  {
   "cell_type": "markdown",
   "metadata": {
    "colab_type": "text",
    "id": "oql7L19rEsWi"
   },
   "source": [
    "以下では，Googleドライブのマイドライブ直下にDNN_codeフォルダを置くことを仮定しています．必要に応じて，パスを変更してください．"
   ]
  },
  {
   "cell_type": "code",
   "execution_count": 23,
   "metadata": {
    "colab": {},
    "colab_type": "code",
    "id": "7Ic2JzkvFX59"
   },
   "outputs": [],
   "source": [
    "import sys\n",
    "sys.path.append('./')"
   ]
  },
  {
   "cell_type": "code",
   "execution_count": 24,
   "metadata": {},
   "outputs": [],
   "source": [
    "sys.path.append('../common')"
   ]
  },
  {
   "cell_type": "code",
   "execution_count": 25,
   "metadata": {},
   "outputs": [
    {
     "name": "stdout",
     "output_type": "stream",
     "text": [
      "README.md  data     lesson_1  productionChallenges  requirements.txt\r\n",
      "common\t   example  lesson_2  requirements.in\r\n"
     ]
    }
   ],
   "source": [
    "!ls ../"
   ]
  },
  {
   "cell_type": "code",
   "execution_count": 26,
   "metadata": {},
   "outputs": [
    {
     "name": "stdout",
     "output_type": "stream",
     "text": [
      "__pycache__  functions.py  layers.py  optimizer.py  trainer.py\r\n"
     ]
    }
   ],
   "source": [
    "!ls ../common"
   ]
  },
  {
   "cell_type": "markdown",
   "metadata": {
    "colab_type": "text",
    "id": "k5L0AWliZYng"
   },
   "source": [
    "# importと関数定義"
   ]
  },
  {
   "cell_type": "code",
   "execution_count": 34,
   "metadata": {
    "colab": {},
    "colab_type": "code",
    "id": "R-FDEiMPe3eE"
   },
   "outputs": [],
   "source": [
    "import numpy as np\n",
    "#from common import functions\n",
    "import functions\n",
    "\n",
    "def print_vec(text, vec):\n",
    "    print(\"*** \" + text + \" ***\")\n",
    "    print(vec)\n",
    "    #print(\"shape: \" + str(x.shape))\n",
    "    print(\"\")\n"
   ]
  },
  {
   "cell_type": "markdown",
   "metadata": {
    "colab_type": "text",
    "id": "uqIgpdkPe5yR"
   },
   "source": [
    "# 順伝播（単層・単ユニット）"
   ]
  },
  {
   "cell_type": "code",
   "execution_count": 39,
   "metadata": {
    "colab": {},
    "colab_type": "code",
    "id": "5nwFXP3le3eJ",
    "scrolled": false
   },
   "outputs": [
    {
     "name": "stdout",
     "output_type": "stream",
     "text": [
      "*** 重み ***\n",
      "[0 4]\n",
      "\n",
      "*** バイアス ***\n",
      "4.432172846531083\n",
      "\n",
      "*** 入力 ***\n",
      "[2 3]\n",
      "\n",
      "*** 総入力 ***\n",
      "16.43217284653108\n",
      "\n",
      "*** 中間層出力 ***\n",
      "16.43217284653108\n",
      "\n"
     ]
    }
   ],
   "source": [
    "# 順伝播（単層・単ユニット）\n",
    "\n",
    "# 重み\n",
    "W = np.array([[0.1], [0.2]])\n",
    "\n",
    "## 試してみよう_配列の初期化\n",
    "#W = np.zeros(2)\n",
    "#W = np.ones(2)\n",
    "#W = np.random.rand(2)\n",
    "W = np.random.randint(5, size=(2))\n",
    "\n",
    "print_vec(\"重み\", W)\n",
    "\n",
    "\n",
    "# バイアス\n",
    "b = 0.5\n",
    "\n",
    "## 試してみよう_数値の初期化\n",
    "#b = np.random.rand() # 0~1のランダム数値\n",
    "b = np.random.rand() * 10 -5  # -5~5のランダム数値\n",
    "\n",
    "print_vec(\"バイアス\", b)\n",
    "\n",
    "# 入力値\n",
    "x = np.array([2, 3])\n",
    "print_vec(\"入力\", x)\n",
    "\n",
    "\n",
    "# 総入力\n",
    "u = np.dot(x, W) + b\n",
    "print_vec(\"総入力\", u)\n",
    "\n",
    "# 中間層出力\n",
    "z = functions.relu(u)\n",
    "print_vec(\"中間層出力\", z)\n"
   ]
  },
  {
   "cell_type": "markdown",
   "metadata": {
    "colab_type": "text",
    "id": "FpOvW2Ple-zS"
   },
   "source": [
    "# 順伝播（単層・複数ユニット）\n"
   ]
  },
  {
   "cell_type": "code",
   "execution_count": 40,
   "metadata": {
    "colab": {},
    "colab_type": "code",
    "id": "kUxj9ZGWe3eL"
   },
   "outputs": [
    {
     "name": "stdout",
     "output_type": "stream",
     "text": [
      "*** 重み ***\n",
      "[[3 3 2]\n",
      " [1 2 0]\n",
      " [2 0 2]\n",
      " [3 0 2]]\n",
      "\n",
      "*** バイアス ***\n",
      "[0.1 0.2 0.3]\n",
      "\n",
      "*** 入力 ***\n",
      "[ 1.  5.  2. -1.]\n",
      "\n",
      "*** 総入力 ***\n",
      "[ 9.1 13.2  4.3]\n",
      "\n",
      "*** 中間層出力 ***\n",
      "[0.99988835 0.99999815 0.98661308]\n",
      "\n"
     ]
    }
   ],
   "source": [
    "# 順伝播（単層・複数ユニット）\n",
    "\n",
    "# 重み\n",
    "W = np.array([\n",
    "    [0.1, 0.2, 0.3], \n",
    "    [0.2, 0.3, 0.4], \n",
    "    [0.3, 0.4, 0.5],\n",
    "    [0.4, 0.5, 0.6]\n",
    "])\n",
    "\n",
    "## 試してみよう_配列の初期化\n",
    "#W = np.zeros((4,3))\n",
    "#W = np.ones((4,3))\n",
    "#W = np.random.rand(4,3)\n",
    "W = np.random.randint(5, size=(4,3))\n",
    "\n",
    "print_vec(\"重み\", W)\n",
    "\n",
    "# バイアス\n",
    "b = np.array([0.1, 0.2, 0.3])\n",
    "print_vec(\"バイアス\", b)\n",
    "\n",
    "# 入力値\n",
    "x = np.array([1.0, 5.0, 2.0, -1.0])\n",
    "print_vec(\"入力\", x)\n",
    "\n",
    "\n",
    "#  総入力\n",
    "u = np.dot(x, W) + b\n",
    "print_vec(\"総入力\", u)\n",
    "\n",
    "# 中間層出力\n",
    "z = functions.sigmoid(u)\n",
    "print_vec(\"中間層出力\", z)\n"
   ]
  },
  {
   "cell_type": "markdown",
   "metadata": {
    "colab_type": "text",
    "id": "75hN-MtofBBE"
   },
   "source": [
    "# 順伝播（3層・複数ユニット）"
   ]
  },
  {
   "cell_type": "code",
   "execution_count": 46,
   "metadata": {
    "colab": {},
    "colab_type": "code",
    "id": "SrWWI-XXe3eO"
   },
   "outputs": [
    {
     "name": "stdout",
     "output_type": "stream",
     "text": [
      "*** 入力 ***\n",
      "[1. 2.]\n",
      "\n",
      "##### ネットワークの初期化 #####\n",
      "(2, 3)\n",
      "(3, 2)\n",
      "(2, 2)\n",
      "\n",
      "*** 重み1 ***\n",
      "[[0.45381228 0.89622265 0.7769808 ]\n",
      " [0.19368377 0.78981461 0.14222265]]\n",
      "\n",
      "*** 重み2 ***\n",
      "[[0.11219197 0.32535455]\n",
      " [0.56239623 0.70442567]\n",
      " [0.33283144 0.78734784]]\n",
      "\n",
      "*** 重み3 ***\n",
      "[[0.73954205 0.80469194]\n",
      " [0.91037625 0.81202272]]\n",
      "\n",
      "*** バイアス1 ***\n",
      "[0.91003964 0.27645843 0.27521534]\n",
      "\n",
      "*** バイアス2 ***\n",
      "[0.27152716 0.03472368]\n",
      "\n",
      "*** バイアス3 ***\n",
      "[0.81890673 0.38189273]\n",
      "\n",
      "##### 順伝播開始 #####\n",
      "*** 総入力1 ***\n",
      "[1.75121947 2.7523103  1.33664145]\n",
      "\n",
      "*** 中間層出力1 ***\n",
      "[1.75121947 2.7523103  1.33664145]\n",
      "\n",
      "*** 総入力2 ***\n",
      "[2.46076517 3.59569067]\n",
      "\n",
      "*** 出力1 ***\n",
      "[1.75121947 2.7523103  1.33664145]\n",
      "\n",
      "出力合計: 5.8401712211902375\n"
     ]
    }
   ],
   "source": [
    "# 順伝播（3層・複数ユニット）\n",
    "\n",
    "# ウェイトとバイアスを設定\n",
    "# ネートワークを作成\n",
    "def init_network():\n",
    "    print(\"##### ネットワークの初期化 #####\")\n",
    "    network = {}\n",
    "    \n",
    "    #試してみよう\n",
    "    #_各パラメータのshapeを表示\n",
    "    #_ネットワークの初期値ランダム生成\n",
    "    \n",
    "    network['W1'] = np.array([\n",
    "        [0.1, 0.3, 0.5],\n",
    "        [0.2, 0.4, 0.6]\n",
    "    ])\n",
    "    network['W1']=np.random.rand(2,3)\n",
    "    print(network[\"W1\"].shape)\n",
    "    \n",
    "    network['W2'] = np.array([\n",
    "        [0.1, 0.4],\n",
    "        [0.2, 0.5],\n",
    "        [0.3, 0.6]\n",
    "    ])\n",
    "    network['W2']=np.random.rand(3,2)\n",
    "    print(network[\"W2\"].shape)\n",
    "    \n",
    "    network['W3'] = np.array([\n",
    "        [0.1, 0.3],\n",
    "        [0.2, 0.4]\n",
    "    ])\n",
    "    network['W3']=np.random.rand(2,2)\n",
    "    print(network[\"W3\"].shape)\n",
    "    print(\"\")\n",
    "    \n",
    "    network['b1'] = np.random.rand(3) #np.array([0.1, 0.2, 0.3])\n",
    "    network['b2'] = np.random.rand(2) #np.array([0.1, 0.2])\n",
    "    network['b3'] = np.random.rand(2) #np.array([1, 2])\n",
    "\n",
    "    print_vec(\"重み1\", network['W1'] )\n",
    "    print_vec(\"重み2\", network['W2'] )\n",
    "    print_vec(\"重み3\", network['W3'] )\n",
    "    print_vec(\"バイアス1\", network['b1'] )\n",
    "    print_vec(\"バイアス2\", network['b2'] )\n",
    "    print_vec(\"バイアス3\", network['b3'] )\n",
    "\n",
    "    return network\n",
    "\n",
    "# プロセスを作成\n",
    "# x：入力値\n",
    "def forward(network, x):\n",
    "    \n",
    "    print(\"##### 順伝播開始 #####\")\n",
    "\n",
    "    W1, W2, W3 = network['W1'], network['W2'], network['W3']\n",
    "    b1, b2, b3 = network['b1'], network['b2'], network['b3']\n",
    "    \n",
    "    # 1層の総入力\n",
    "    u1 = np.dot(x, W1) + b1\n",
    "    \n",
    "    # 1層の総出力\n",
    "    z1 = functions.relu(u1)\n",
    "    \n",
    "    # 2層の総入力\n",
    "    u2 = np.dot(z1, W2) + b2\n",
    "    \n",
    "    # 2層の総出力\n",
    "    z2 = functions.relu(u2)\n",
    "\n",
    "    # 出力層の総入力\n",
    "    u3 = np.dot(z2, W3) + b3\n",
    "    \n",
    "    # 出力層の総出力\n",
    "    y = u3\n",
    "    \n",
    "    print_vec(\"総入力1\", u1)\n",
    "    print_vec(\"中間層出力1\", z1)\n",
    "    print_vec(\"総入力2\", u2)\n",
    "    print_vec(\"出力1\", z1)\n",
    "    print(\"出力合計: \" + str(np.sum(z1)))\n",
    "\n",
    "    return y, z1, z2\n",
    "\n",
    "# 入力値\n",
    "x = np.array([1., 2.])\n",
    "print_vec(\"入力\", x)\n",
    "\n",
    "# ネットワークの初期化\n",
    "network =  init_network()\n",
    "\n",
    "y, z1, z2 = forward(network, x)"
   ]
  },
  {
   "cell_type": "markdown",
   "metadata": {
    "colab_type": "text",
    "id": "7Np6NwxQfFas"
   },
   "source": [
    "# 多クラス分類（2-3-4ネットワーク）"
   ]
  },
  {
   "cell_type": "code",
   "execution_count": 48,
   "metadata": {
    "colab": {},
    "colab_type": "code",
    "id": "8uypKa5Re3eQ"
   },
   "outputs": [
    {
     "name": "stdout",
     "output_type": "stream",
     "text": [
      "##### ネットワークの初期化 #####\n",
      "*** 重み1 ***\n",
      "[[0.1 0.3 0.5 0.1 0.1]\n",
      " [0.2 0.4 0.6 0.1 0.1]\n",
      " [0.2 0.4 0.6 0.1 0.1]]\n",
      "\n",
      "*** 重み2 ***\n",
      "[[0.1 0.4 0.7 1. ]\n",
      " [0.2 0.5 0.8 1.1]\n",
      " [0.3 0.6 0.9 1.2]\n",
      " [0.3 0.6 0.9 1.2]\n",
      " [0.3 0.6 0.9 1.2]]\n",
      "\n",
      "*** バイアス1 ***\n",
      "[0.1 0.2 0.3 0.4 0.5]\n",
      "\n",
      "*** バイアス2 ***\n",
      "[0.1 0.2 0.3 0.4]\n",
      "\n",
      "##### 順伝播開始 #####\n",
      "*** 総入力1 ***\n",
      "[1.2 2.5 3.8 1.  1.1]\n",
      "\n",
      "*** 中間層出力1 ***\n",
      "[1.2 2.5 3.8 1.  1.1]\n",
      "\n",
      "*** 総入力2 ***\n",
      "[ 2.49  5.47  8.45 11.43]\n",
      "\n",
      "*** 出力1 ***\n",
      "[1.24385922e-04 2.44888723e-03 4.82132428e-02 9.49213484e-01]\n",
      "\n",
      "出力合計: 1.0\n",
      "\n",
      "##### 結果表示 #####\n",
      "*** 出力 ***\n",
      "[1.24385922e-04 2.44888723e-03 4.82132428e-02 9.49213484e-01]\n",
      "\n",
      "*** 訓練データ ***\n",
      "[0 0 0 1]\n",
      "\n",
      "*** 誤差 ***\n",
      "0.05212144347300637\n",
      "\n"
     ]
    }
   ],
   "source": [
    "# 多クラス分類\n",
    "# 2-3-4ネットワーク\n",
    "\n",
    "# ！試してみよう_ノードの構成を 3-5-4 に変更してみよう\n",
    "\n",
    "# ウェイトとバイアスを設定\n",
    "# ネートワークを作成\n",
    "def init_network():\n",
    "    print(\"##### ネットワークの初期化 #####\")\n",
    "\n",
    "    #試してみよう\n",
    "    #_各パラメータのshapeを表示\n",
    "    #_ネットワークの初期値ランダム生成\n",
    "\n",
    "    network = {}\n",
    "    network['W1'] = np.array([\n",
    "        [0.1, 0.3, 0.5, 0.1, 0.1],\n",
    "        [0.2, 0.4, 0.6, 0.1, 0.1],\n",
    "        [0.2, 0.4, 0.6, 0.1, 0.1]\n",
    "    ])\n",
    "    network['W2'] = np.array([\n",
    "        [0.1, 0.4, 0.7, 1.0],\n",
    "        [0.2, 0.5, 0.8, 1.1],\n",
    "        [0.3, 0.6, 0.9, 1.2],\n",
    "        [0.3, 0.6, 0.9, 1.2],\n",
    "        [0.3, 0.6, 0.9, 1.2]\n",
    "    ])\n",
    "    network['b1'] = np.array([0.1, 0.2, 0.3, 0.4, 0.5])\n",
    "    network['b2'] = np.array([0.1, 0.2, 0.3, 0.4])\n",
    "    \n",
    "    print_vec(\"重み1\", network['W1'] )\n",
    "    print_vec(\"重み2\", network['W2'] )\n",
    "    print_vec(\"バイアス1\", network['b1'] )\n",
    "    print_vec(\"バイアス2\", network['b2'] )\n",
    "\n",
    "    return network\n",
    "\n",
    "# プロセスを作成\n",
    "# x：入力値\n",
    "def forward(network, x):\n",
    "    \n",
    "    print(\"##### 順伝播開始 #####\")\n",
    "    W1, W2 = network['W1'], network['W2']\n",
    "    b1, b2 = network['b1'], network['b2']\n",
    "    \n",
    "    # 1層の総入力\n",
    "    u1 = np.dot(x, W1) + b1\n",
    "\n",
    "    # 1層の総出力\n",
    "    z1 = functions.relu(u1)\n",
    "\n",
    "    # 2層の総入力\n",
    "    u2 = np.dot(z1, W2) + b2\n",
    "    \n",
    "    # 出力値\n",
    "    y = functions.softmax(u2)\n",
    "    \n",
    "    print_vec(\"総入力1\", u1)\n",
    "    print_vec(\"中間層出力1\", z1)\n",
    "    print_vec(\"総入力2\", u2)\n",
    "    print_vec(\"出力1\", y)\n",
    "    print(\"出力合計: \" + str(np.sum(y)))\n",
    "        \n",
    "    return y, z1\n",
    "\n",
    "## 事前データ\n",
    "# 入力値\n",
    "x = np.array([1., 2., 3.])\n",
    "\n",
    "# 目標出力\n",
    "d = np.array([0, 0, 0, 1])\n",
    "\n",
    "# ネットワークの初期化\n",
    "network =  init_network()\n",
    "\n",
    "# 出力\n",
    "y, z1 = forward(network, x)\n",
    "\n",
    "# 誤差\n",
    "loss = functions.cross_entropy_error(d, y)\n",
    "\n",
    "## 表示\n",
    "print(\"\\n##### 結果表示 #####\")\n",
    "print_vec(\"出力\", y)\n",
    "print_vec(\"訓練データ\", d)\n",
    "print_vec(\"誤差\",  loss)\n",
    "\n"
   ]
  },
  {
   "cell_type": "markdown",
   "metadata": {
    "colab_type": "text",
    "id": "pN2ldtNRfL-r"
   },
   "source": [
    "# 回帰（2-3-2ネットワーク）"
   ]
  },
  {
   "cell_type": "code",
   "execution_count": 51,
   "metadata": {
    "colab": {},
    "colab_type": "code",
    "id": "AwigBRlBe3eS"
   },
   "outputs": [
    {
     "name": "stdout",
     "output_type": "stream",
     "text": [
      "##### ネットワークの初期化 #####\n",
      "*** 重み1 ***\n",
      "[[0.14196473 0.94069358 0.95872147 0.60156737 0.02967932]\n",
      " [0.20781821 0.00172539 0.41754243 0.13687174 0.40882726]\n",
      " [0.79137213 0.83533707 0.84632806 0.93363331 0.59195463]]\n",
      "\n",
      "*** 重み2 ***\n",
      "[[0.4783427  0.07815895 0.4809112  0.00940366]\n",
      " [0.66821675 0.70834908 0.66648685 0.61397271]\n",
      " [0.11968378 0.59210121 0.70814368 0.21122124]\n",
      " [0.04162011 0.34560523 0.33697355 0.29197739]\n",
      " [0.0344727  0.53389454 0.21455475 0.02742013]]\n",
      "\n",
      "*** バイアス1 ***\n",
      "[0.5378205  0.38972146 0.51202185 0.03047872 0.87596268]\n",
      "\n",
      "*** バイアス2 ***\n",
      "[0.33619265 0.4758727  0.05144817 0.16308667]\n",
      "\n",
      "##### 順伝播開始 #####\n",
      "*** 総入力1 ***\n",
      "[3.46953804 3.83987703 4.84481235 3.7066895  3.49916041]\n",
      "\n",
      "*** 中間層出力1 ***\n",
      "[3.46953804 3.83987703 4.84481235 3.7066895  3.49916041]\n",
      "\n",
      "*** 総入力2 ***\n",
      "[5.4164348  9.48487471 9.70985647 4.75483698]\n",
      "\n",
      "*** 出力1 ***\n",
      "[5.4164348  9.48487471 9.70985647 4.75483698]\n",
      "\n",
      "出力合計: 19.36007734221611\n",
      "\n",
      "##### 結果表示 #####\n",
      "*** 中間層出力 ***\n",
      "[3.46953804 3.83987703 4.84481235 3.7066895  3.49916041]\n",
      "\n",
      "*** 出力 ***\n",
      "[5.4164348  9.48487471 9.70985647 4.75483698]\n",
      "\n",
      "*** 訓練データ ***\n",
      "[2. 4. 2. 4.]\n",
      "\n",
      "*** 誤差 ***\n",
      "12.720942875655348\n",
      "\n"
     ]
    }
   ],
   "source": [
    "# 回帰\n",
    "# 2-3-2ネットワーク\n",
    "\n",
    "# ！試してみよう_ノードの構成を 3-5-4 に変更してみよう\n",
    "\n",
    "# ウェイトとバイアスを設定\n",
    "# ネートワークを作成\n",
    "def init_network():\n",
    "    print(\"##### ネットワークの初期化 #####\")\n",
    "\n",
    "    network = {}\n",
    "    network['W1'] = np.random.rand(3,5)\n",
    "    network['W2'] = np.random.rand(5,4)\n",
    "    network['b1'] = np.random.rand(5) #np.array([0.1, 0.2, 0.3])\n",
    "    network['b2'] = np.random.rand(4) #np.array([0.1, 0.2])\n",
    "    \n",
    "    print_vec(\"重み1\", network['W1'] )\n",
    "    print_vec(\"重み2\", network['W2'] )\n",
    "    print_vec(\"バイアス1\", network['b1'] )\n",
    "    print_vec(\"バイアス2\", network['b2'] )\n",
    "\n",
    "    return network\n",
    "\n",
    "# プロセスを作成\n",
    "def forward(network, x):\n",
    "    print(\"##### 順伝播開始 #####\")\n",
    "    \n",
    "    W1, W2 = network['W1'], network['W2']\n",
    "    b1, b2 = network['b1'], network['b2']\n",
    "    # 隠れ層の総入力\n",
    "    u1 = np.dot(x, W1) + b1\n",
    "    # 隠れ層の総出力\n",
    "    z1 = functions.relu(u1)\n",
    "    # 出力層の総入力\n",
    "    u2 = np.dot(z1, W2) + b2\n",
    "    # 出力層の総出力\n",
    "    y = u2\n",
    "    \n",
    "    print_vec(\"総入力1\", u1)\n",
    "    print_vec(\"中間層出力1\", z1)\n",
    "    print_vec(\"総入力2\", u2)\n",
    "    print_vec(\"出力1\", y)\n",
    "    print(\"出力合計: \" + str(np.sum(z1)))\n",
    "    \n",
    "    return y, z1\n",
    "\n",
    "# 入力値\n",
    "x = np.array([1., 2., 3.])\n",
    "network =  init_network()\n",
    "y, z1 = forward(network, x)\n",
    "# 目標出力\n",
    "d = np.array([2., 4., 2., 4.])\n",
    "# 誤差\n",
    "loss = functions.mean_squared_error(d, y)\n",
    "## 表示\n",
    "print(\"\\n##### 結果表示 #####\")\n",
    "print_vec(\"中間層出力\", z1)\n",
    "print_vec(\"出力\", y)\n",
    "print_vec(\"訓練データ\", d)\n",
    "print_vec(\"誤差\",  loss)\n"
   ]
  },
  {
   "cell_type": "markdown",
   "metadata": {
    "colab_type": "text",
    "id": "w0anM_0RfQqj"
   },
   "source": [
    "# 2値分類（2-3-1ネットワーク）"
   ]
  },
  {
   "cell_type": "code",
   "execution_count": 53,
   "metadata": {
    "colab": {},
    "colab_type": "code",
    "id": "Zm2-u-UNe3eU"
   },
   "outputs": [
    {
     "name": "stdout",
     "output_type": "stream",
     "text": [
      "##### ネットワークの初期化 #####\n",
      "##### 順伝播開始 #####\n",
      "*** 総入力1 ***\n",
      "[16.66365147 13.16321025 13.85468089 13.50344454 12.72909966 12.82200417\n",
      " 15.61350957 14.86223521 14.1815084  14.65887255]\n",
      "\n",
      "*** 中間層出力1 ***\n",
      "[16.66365147 13.16321025 13.85468089 13.50344454 12.72909966 12.82200417\n",
      " 15.61350957 14.86223521 14.1815084  14.65887255]\n",
      "\n",
      "*** 総入力2 ***\n",
      "[76.20326786]\n",
      "\n",
      "*** 出力1 ***\n",
      "[1.]\n",
      "\n",
      "出力合計: 142.05221669478573\n",
      "\n",
      "##### 結果表示 #####\n",
      "*** 中間層出力 ***\n",
      "[16.66365147 13.16321025 13.85468089 13.50344454 12.72909966 12.82200417\n",
      " 15.61350957 14.86223521 14.1815084  14.65887255]\n",
      "\n",
      "*** 出力 ***\n",
      "[1.]\n",
      "\n",
      "*** 訓練データ ***\n",
      "[1]\n",
      "\n",
      "*** 誤差 ***\n",
      "-9.999999505838704e-08\n",
      "\n"
     ]
    }
   ],
   "source": [
    "# 2値分類\n",
    "# 2-3-1ネットワーク\n",
    "\n",
    "# ！試してみよう_ノードの構成を 5-10-1 に変更してみよう\n",
    "\n",
    "# ウェイトとバイアスを設定\n",
    "# ネートワークを作成\n",
    "def init_network():\n",
    "    print(\"##### ネットワークの初期化 #####\")\n",
    "\n",
    "    network = {}\n",
    "    network['W1'] = np.random.rand(5,10)\n",
    "    network['W2'] = np.random.rand(10,1)\n",
    "    network['b1'] = np.array(10)\n",
    "    network['b2'] = np.array(1)\n",
    "    return network\n",
    "\n",
    "\n",
    "# プロセスを作成\n",
    "def forward(network, x):\n",
    "    print(\"##### 順伝播開始 #####\")\n",
    "    \n",
    "    W1, W2 = network['W1'], network['W2']\n",
    "    b1, b2 = network['b1'], network['b2']    \n",
    "\n",
    "    # 隠れ層の総入力\n",
    "    u1 = np.dot(x, W1) + b1\n",
    "    # 隠れ層の総出力\n",
    "    z1 = functions.relu(u1)\n",
    "    # 出力層の総入力\n",
    "    u2 = np.dot(z1, W2) + b2\n",
    "    # 出力層の総出力\n",
    "    y = functions.sigmoid(u2)\n",
    "            \n",
    "    print_vec(\"総入力1\", u1)\n",
    "    print_vec(\"中間層出力1\", z1)\n",
    "    print_vec(\"総入力2\", u2)\n",
    "    print_vec(\"出力1\", y)\n",
    "    print(\"出力合計: \" + str(np.sum(z1)))\n",
    "\n",
    "    return y, z1\n",
    "\n",
    "\n",
    "# 入力値\n",
    "x = np.array([1., 2., 2., 2., 2.])\n",
    "# 目標出力\n",
    "d = np.array([1])\n",
    "network =  init_network()\n",
    "y, z1 = forward(network, x)\n",
    "# 誤差\n",
    "loss = functions.cross_entropy_error(d, y)\n",
    "\n",
    "## 表示\n",
    "print(\"\\n##### 結果表示 #####\")\n",
    "print_vec(\"中間層出力\", z1)\n",
    "print_vec(\"出力\", y)\n",
    "print_vec(\"訓練データ\", d)\n",
    "print_vec(\"誤差\",  loss)"
   ]
  }
 ],
 "metadata": {
  "colab": {
   "collapsed_sections": [],
   "name": "1_1_forward_propagation.ipynb",
   "provenance": [],
   "toc_visible": true,
   "version": "0.3.2"
  },
  "kernelspec": {
   "display_name": "Python 3",
   "language": "python",
   "name": "python3"
  },
  "language_info": {
   "codemirror_mode": {
    "name": "ipython",
    "version": 3
   },
   "file_extension": ".py",
   "mimetype": "text/x-python",
   "name": "python",
   "nbconvert_exporter": "python",
   "pygments_lexer": "ipython3",
   "version": "3.6.9"
  }
 },
 "nbformat": 4,
 "nbformat_minor": 1
}
